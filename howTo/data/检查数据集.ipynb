{
 "cells": [
  {
   "cell_type": "code",
   "execution_count": 1,
   "metadata": {
    "collapsed": true
   },
   "outputs": [],
   "source": [
    "file = 'dialog-babi-task5-full-dialogs-trn.txt'"
   ]
  },
  {
   "cell_type": "code",
   "execution_count": 6,
   "metadata": {},
   "outputs": [
    {
     "name": "stdout",
     "output_type": "stream",
     "text": [
      "['\\n']\n",
      "['\\n']\n",
      "['\\n']\n",
      "['\\n']\n",
      "['\\n']\n",
      "['\\n']\n",
      "['\\n']\n",
      "['\\n']\n",
      "['\\n']\n",
      "['\\n']\n",
      "['\\n']\n",
      "['\\n']\n",
      "['\\n']\n",
      "['\\n']\n",
      "['\\n']\n",
      "['\\n']\n",
      "['\\n']\n",
      "['\\n']\n",
      "['\\n']\n",
      "['\\n']\n",
      "['5 thanks', 'you are welcome', '\\n']\n",
      "['\\n']\n",
      "['\\n']\n",
      "['\\n']\n",
      "['\\n']\n",
      "['\\n']\n",
      "['\\n']\n",
      "['\\n']\n",
      "['\\n']\n"
     ]
    }
   ],
   "source": [
    "with open(file,'r',encoding='utf-8') as f:\n",
    "    for line in f:\n",
    "        data = line.split('\\t')\n",
    "        if len(data)!=2:\n",
    "            print(data)"
   ]
  },
  {
   "cell_type": "code",
   "execution_count": null,
   "metadata": {
    "collapsed": true
   },
   "outputs": [],
   "source": []
  }
 ],
 "metadata": {
  "kernelspec": {
   "display_name": "Python 3",
   "language": "python",
   "name": "python3"
  },
  "language_info": {
   "codemirror_mode": {
    "name": "ipython",
    "version": 3
   },
   "file_extension": ".py",
   "mimetype": "text/x-python",
   "name": "python",
   "nbconvert_exporter": "python",
   "pygments_lexer": "ipython3",
   "version": "3.6.3"
  }
 },
 "nbformat": 4,
 "nbformat_minor": 2
}
